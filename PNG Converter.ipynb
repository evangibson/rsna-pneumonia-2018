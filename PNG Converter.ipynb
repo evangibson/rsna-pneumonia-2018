{
 "cells": [
  {
   "cell_type": "markdown",
   "metadata": {},
   "source": [
    "# JPG to PNG Converter"
   ]
  },
  {
   "cell_type": "code",
   "execution_count": 1,
   "metadata": {
    "ExecuteTime": {
     "end_time": "2020-05-04T16:35:01.827510Z",
     "start_time": "2020-05-04T16:34:15.327528Z"
    }
   },
   "outputs": [],
   "source": [
    "import tkinter as tk\n",
    "from tkinter import filedialog\n",
    "from tkinter import messagebox\n",
    "from PIL import Image\n",
    "\n",
    "root= tk.Tk()\n",
    "\n",
    "canvas1 = tk.Canvas(root, width = 300, height = 250, bg = 'lightsteelblue2', relief = 'raised')\n",
    "canvas1.pack()\n",
    "\n",
    "label1 = tk.Label(root, text='File Conversion Tool', bg = 'lightsteelblue2')\n",
    "label1.config(font=('helvetica', 20))\n",
    "canvas1.create_window(150, 60, window=label1)\n",
    "\n",
    "def getJPG ():\n",
    "    global im1\n",
    "    \n",
    "    import_file_path = filedialog.askopenfilename()\n",
    "    im1 = Image.open(import_file_path)\n",
    "    \n",
    "browseButton_JPG = tk.Button(text=\"      Import JPG File     \", command=getJPG, bg='royalblue', fg='white', font=('helvetica', 12, 'bold'))\n",
    "canvas1.create_window(150, 130, window=browseButton_JPG)\n",
    "\n",
    "def convertToPNG ():\n",
    "    global im1\n",
    "    \n",
    "    export_file_path = filedialog.asksaveasfilename(defaultextension='.png')\n",
    "    im1.save(export_file_path)\n",
    "\n",
    "saveAsButton_PNG = tk.Button(text='Convert JPG to PNG', command=convertToPNG, bg='royalblue', fg='white', font=('helvetica', 12, 'bold'))\n",
    "canvas1.create_window(150, 180, window=saveAsButton_PNG)\n",
    "\n",
    "root.mainloop()"
   ]
  }
 ],
 "metadata": {
  "hide_input": false,
  "kernelspec": {
   "display_name": "Python 3",
   "language": "python",
   "name": "python3"
  },
  "language_info": {
   "codemirror_mode": {
    "name": "ipython",
    "version": 3
   },
   "file_extension": ".py",
   "mimetype": "text/x-python",
   "name": "python",
   "nbconvert_exporter": "python",
   "pygments_lexer": "ipython3",
   "version": "3.7.4"
  },
  "toc": {
   "base_numbering": 1,
   "nav_menu": {},
   "number_sections": false,
   "sideBar": false,
   "skip_h1_title": false,
   "title_cell": "Table of Contents",
   "title_sidebar": "Contents",
   "toc_cell": false,
   "toc_position": {},
   "toc_section_display": false,
   "toc_window_display": false
  },
  "varInspector": {
   "cols": {
    "lenName": 16,
    "lenType": 16,
    "lenVar": 40
   },
   "kernels_config": {
    "python": {
     "delete_cmd_postfix": "",
     "delete_cmd_prefix": "del ",
     "library": "var_list.py",
     "varRefreshCmd": "print(var_dic_list())"
    },
    "r": {
     "delete_cmd_postfix": ") ",
     "delete_cmd_prefix": "rm(",
     "library": "var_list.r",
     "varRefreshCmd": "cat(var_dic_list()) "
    }
   },
   "types_to_exclude": [
    "module",
    "function",
    "builtin_function_or_method",
    "instance",
    "_Feature"
   ],
   "window_display": false
  }
 },
 "nbformat": 4,
 "nbformat_minor": 2
}
